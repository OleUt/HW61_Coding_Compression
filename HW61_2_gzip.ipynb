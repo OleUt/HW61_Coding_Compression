{
 "cells": [
  {
   "cell_type": "code",
   "execution_count": 1,
   "id": "35117eee",
   "metadata": {},
   "outputs": [],
   "source": [
    "import os.path\n",
    "import gzip\n",
    "\n",
    "# GZIP compression of an existing file:\n",
    "f_tx = open('./python.txt', 'rb')\n",
    "f_gz = gzip.open('./python_gzip.gz', 'wb', compresslevel=9)\n",
    "f_gz.writelines(f_tx)\n",
    "f_gz.close()\n",
    "f_tx.close()"
   ]
  }
 ],
 "metadata": {
  "kernelspec": {
   "display_name": "Python 3 (ipykernel)",
   "language": "python",
   "name": "python3"
  },
  "language_info": {
   "codemirror_mode": {
    "name": "ipython",
    "version": 3
   },
   "file_extension": ".py",
   "mimetype": "text/x-python",
   "name": "python",
   "nbconvert_exporter": "python",
   "pygments_lexer": "ipython3",
   "version": "3.11.1"
  }
 },
 "nbformat": 4,
 "nbformat_minor": 5
}
